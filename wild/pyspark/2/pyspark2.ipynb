{
 "cells": [
  {
   "cell_type": "code",
   "execution_count": 2,
   "metadata": {},
   "outputs": [],
   "source": [
    "from pyspark.sql import SparkSession\n",
    "from pyspark.sql.functions import col"
   ]
  },
  {
   "cell_type": "code",
   "execution_count": 3,
   "metadata": {},
   "outputs": [
    {
     "name": "stderr",
     "output_type": "stream",
     "text": [
      "your 131072x1 screen size is bogus. expect trouble\n",
      "23/11/15 16:00:48 WARN Utils: Your hostname, mathias-PC resolves to a loopback address: 127.0.1.1; using 172.28.121.223 instead (on interface eth0)\n",
      "23/11/15 16:00:48 WARN Utils: Set SPARK_LOCAL_IP if you need to bind to another address\n",
      "Setting default log level to \"WARN\".\n",
      "To adjust logging level use sc.setLogLevel(newLevel). For SparkR, use setLogLevel(newLevel).\n",
      "23/11/15 16:00:49 WARN NativeCodeLoader: Unable to load native-hadoop library for your platform... using builtin-java classes where applicable\n"
     ]
    }
   ],
   "source": [
    "# Initialiser la session Spark\n",
    "spark = SparkSession.builder.appName(\"MovieRatings\").getOrCreate()"
   ]
  },
  {
   "cell_type": "code",
   "execution_count": 5,
   "metadata": {},
   "outputs": [],
   "source": [
    "# Charger les données\n",
    "data_path = \"u.data\"  # Mettez à jour avec le chemin réel de votre fichier u.data\n",
    "df = spark.read.option(\"delimiter\", \"\\t\").csv(data_path, header=False, inferSchema=True)"
   ]
  },
  {
   "cell_type": "code",
   "execution_count": 6,
   "metadata": {},
   "outputs": [],
   "source": [
    "# Renommer les colonnes\n",
    "df = df.withColumnRenamed(\"_c0\", \"user_id\").withColumnRenamed(\"_c1\", \"item_id\").withColumnRenamed(\"_c2\", \"rating\").withColumnRenamed(\"_c3\", \"timestamp\")\n"
   ]
  },
  {
   "cell_type": "code",
   "execution_count": 7,
   "metadata": {},
   "outputs": [],
   "source": [
    "# Compter le nombre de notations par utilisateur\n",
    "user_ratings_count = df.groupBy(\"user_id\").count().withColumnRenamed(\"count\", \"ratings_count\")"
   ]
  },
  {
   "cell_type": "code",
   "execution_count": 8,
   "metadata": {},
   "outputs": [],
   "source": [
    "# Trier les résultats\n",
    "user_ratings_count = user_ratings_count.orderBy(\"user_id\")"
   ]
  },
  {
   "cell_type": "code",
   "execution_count": 9,
   "metadata": {},
   "outputs": [
    {
     "name": "stdout",
     "output_type": "stream",
     "text": [
      "+-------+-------------+\n",
      "|user_id|ratings_count|\n",
      "+-------+-------------+\n",
      "|      1|          272|\n",
      "|      2|           62|\n",
      "|      3|           54|\n",
      "|      4|           24|\n",
      "|      5|          175|\n",
      "|      6|          211|\n",
      "|      7|          403|\n",
      "|      8|           59|\n",
      "|      9|           22|\n",
      "|     10|          184|\n",
      "|     11|          181|\n",
      "|     12|           51|\n",
      "|     13|          636|\n",
      "|     14|           98|\n",
      "|     15|          104|\n",
      "|     16|          140|\n",
      "|     17|           28|\n",
      "|     18|          277|\n",
      "|     19|           20|\n",
      "|     20|           48|\n",
      "+-------+-------------+\n",
      "only showing top 20 rows\n",
      "\n"
     ]
    }
   ],
   "source": [
    "# Afficher les résultats\n",
    "user_ratings_count.show()"
   ]
  },
  {
   "cell_type": "code",
   "execution_count": null,
   "metadata": {},
   "outputs": [],
   "source": []
  }
 ],
 "metadata": {
  "kernelspec": {
   "display_name": "pyspark_env",
   "language": "python",
   "name": "python3"
  },
  "language_info": {
   "codemirror_mode": {
    "name": "ipython",
    "version": 3
   },
   "file_extension": ".py",
   "mimetype": "text/x-python",
   "name": "python",
   "nbconvert_exporter": "python",
   "pygments_lexer": "ipython3",
   "version": "3.12.0"
  }
 },
 "nbformat": 4,
 "nbformat_minor": 2
}
