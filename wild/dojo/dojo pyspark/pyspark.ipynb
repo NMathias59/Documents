{
 "cells": [
  {
   "cell_type": "code",
   "execution_count": 1,
   "metadata": {},
   "outputs": [],
   "source": [
    "from pyspark.sql import SparkSession"
   ]
  },
  {
   "cell_type": "code",
   "execution_count": 3,
   "metadata": {},
   "outputs": [
    {
     "name": "stderr",
     "output_type": "stream",
     "text": [
      "your 131072x1 screen size is bogus. expect trouble\n",
      "23/11/16 09:46:08 WARN Utils: Your hostname, mathias-PC resolves to a loopback address: 127.0.1.1; using 172.28.121.223 instead (on interface eth0)\n",
      "23/11/16 09:46:08 WARN Utils: Set SPARK_LOCAL_IP if you need to bind to another address\n",
      "Setting default log level to \"WARN\".\n",
      "To adjust logging level use sc.setLogLevel(newLevel). For SparkR, use setLogLevel(newLevel).\n",
      "23/11/16 09:46:10 WARN NativeCodeLoader: Unable to load native-hadoop library for your platform... using builtin-java classes where applicable\n"
     ]
    }
   ],
   "source": [
    "## Creation  de la session Spark\n",
    "spark = SparkSession.builder.appName(\"GenderCount\").getOrCreate()\n"
   ]
  },
  {
   "cell_type": "code",
   "execution_count": 8,
   "metadata": {},
   "outputs": [],
   "source": [
    "## Load data\n",
    "data = spark.read.csv(\"Salary.csv\",header=True,inferSchema=True)"
   ]
  },
  {
   "cell_type": "code",
   "execution_count": 10,
   "metadata": {},
   "outputs": [
    {
     "name": "stdout",
     "output_type": "stream",
     "text": [
      "+------+-----+\n",
      "|Gender|count|\n",
      "+------+-----+\n",
      "|Female| 3013|\n",
      "|  Male| 3671|\n",
      "+------+-----+\n",
      "\n"
     ]
    }
   ],
   "source": [
    "## count the number of genders on the dataset\n",
    "gender_count = data.groupBy(\"Gender\").count()\n",
    "gender_count.show()"
   ]
  },
  {
   "cell_type": "code",
   "execution_count": 13,
   "metadata": {},
   "outputs": [
    {
     "name": "stdout",
     "output_type": "stream",
     "text": [
      "+--------------------+------------------+\n",
      "|           Job Title|       avg(Salary)|\n",
      "+--------------------+------------------+\n",
      "|           Scientist|123333.33333333333|\n",
      "|Digital Marketing...| 93269.23076923077|\n",
      "|    Product Designer|           61937.5|\n",
      "|   Financial Manager| 141510.7913669065|\n",
      "|   Event Coordinator|           52500.0|\n",
      "|   Financial Analyst| 86415.09433962264|\n",
      "|Business Intellig...|           85000.0|\n",
      "|     Sales Executive| 43026.31578947369|\n",
      "|    Network Engineer|           60000.0|\n",
      "|     Sales Associate|30735.849056603773|\n",
      "|Public Relations ...|           90000.0|\n",
      "|Digital Marketing...|63333.333333333336|\n",
      "|    VP of Operations|          190000.0|\n",
      "|         UX Designer|          118000.0|\n",
      "|        Receptionist|           25000.0|\n",
      "|   Account Executive|           95000.0|\n",
      "|            Director|          200000.0|\n",
      "|   Marketing Manager|108730.15873015873|\n",
      "|     Project Manager|110588.23529411765|\n",
      "|    Social Media Man|          100000.0|\n",
      "+--------------------+------------------+\n",
      "only showing top 20 rows\n",
      "\n"
     ]
    }
   ],
   "source": [
    "## Salary avg for title job\n",
    "salary_avg = data.groupBy(\"Job Title\").agg({\"Salary\":\"avg\"})\n",
    "salary_avg.show()"
   ]
  },
  {
   "cell_type": "code",
   "execution_count": 15,
   "metadata": {},
   "outputs": [
    {
     "name": "stdout",
     "output_type": "stream",
     "text": [
      "+----+------+---------------+--------------------+-------------------+--------+---------+----------------+------+\n",
      "| Age|Gender|Education Level|           Job Title|Years of Experience|  Salary|  Country|            Race|Senior|\n",
      "+----+------+---------------+--------------------+-------------------+--------+---------+----------------+------+\n",
      "|45.0|  Male|              3|             Manager|               15.0|150000.0|   Canada|           White|     1|\n",
      "|52.0|  Male|              2|            Director|               20.0|200000.0|      USA|           Asian|     0|\n",
      "|42.0|Female|              2|     Product Manager|               12.0|120000.0|      USA|           Asian|     0|\n",
      "|48.0|Female|              1|          HR Manager|               18.0|140000.0|       UK|           Asian|     0|\n",
      "|40.0|Female|              2|     Project Manager|               14.0|130000.0|      USA|African American|     0|\n",
      "|44.0|  Male|              1|  Operations Manager|               16.0|125000.0|    China|         Chinese|     0|\n",
      "|39.0|  Male|              3|            Engineer|               12.0|115000.0|       UK|           Mixed|     1|\n",
      "|51.0|  Male|              1|      Sales Director|               22.0|180000.0|Australia|           Asian|     0|\n",
      "|47.0|  Male|              2|    VP of Operations|               19.0|190000.0|       UK|           White|     0|\n",
      "|41.0|  Male|              2|   Financial Manager|               13.0|140000.0|      USA|African American|     0|\n",
      "|37.0|Female|              2|    Software Manager|               11.0|110000.0|Australia|           Asian|     0|\n",
      "|43.0|Female|              3|          Consultant|               15.0|140000.0|   Canada|           Black|     1|\n",
      "|50.0|  Male|              1|                 CEO|               25.0|250000.0|   Canada|           Asian|     0|\n",
      "|46.0|  Male|              3|             Manager|               20.0|170000.0|      USA|        Hispanic|     1|\n",
      "|42.0|  Male|              2|    Project Engineer|               14.0|115000.0|    China|           White|     0|\n",
      "|49.0|  Male|              1|     Sales Executive|               21.0|160000.0|    China|           White|     0|\n",
      "|48.0|  Male|              2| Operations Director|               18.0|190000.0|   Canada|           Black|     0|\n",
      "|41.0|  Male|              2| Strategy Consultant|               13.0|130000.0|       UK|           Asian|     0|\n",
      "|45.0|Female|              2|Director of Marke...|               16.0|180000.0|       UK|           Welsh|     0|\n",
      "|38.0|  Male|              3|           Scientist|               11.0|120000.0|Australia|           Asian|     1|\n",
      "+----+------+---------------+--------------------+-------------------+--------+---------+----------------+------+\n",
      "only showing top 20 rows\n",
      "\n"
     ]
    }
   ],
   "source": [
    "## 10 years old experience (col : Years of Experience)\n",
    "Years_10 = data.filter(data[\"Years of Experience\"] > 10)\n",
    "Years_10.show()\n"
   ]
  },
  {
   "cell_type": "code",
   "execution_count": 17,
   "metadata": {},
   "outputs": [
    {
     "name": "stdout",
     "output_type": "stream",
     "text": [
      "+--------------------+-----+\n",
      "|           Job Title|count|\n",
      "+--------------------+-----+\n",
      "|    Project Engineer|  316|\n",
      "|   Software Engineer|  240|\n",
      "|Product Marketing...|   69|\n",
      "+--------------------+-----+\n",
      "\n"
     ]
    }
   ],
   "source": [
    "## top job titles for seniority \n",
    "senior_records = data.filter(data[\"Senior\"] == 1)\n",
    "top_job_titles = senior_records.groupBy(\"Job Title\").count().orderBy(\"count\", ascending=False).limit(3)\n",
    "top_job_titles.show()"
   ]
  },
  {
   "cell_type": "code",
   "execution_count": null,
   "metadata": {},
   "outputs": [],
   "source": []
  }
 ],
 "metadata": {
  "kernelspec": {
   "display_name": "pyspark_env",
   "language": "python",
   "name": "python3"
  },
  "language_info": {
   "codemirror_mode": {
    "name": "ipython",
    "version": 3
   },
   "file_extension": ".py",
   "mimetype": "text/x-python",
   "name": "python",
   "nbconvert_exporter": "python",
   "pygments_lexer": "ipython3",
   "version": "3.12.0"
  }
 },
 "nbformat": 4,
 "nbformat_minor": 2
}
